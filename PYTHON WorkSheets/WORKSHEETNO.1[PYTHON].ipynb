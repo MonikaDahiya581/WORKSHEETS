{
 "cells": [
  {
   "cell_type": "markdown",
   "id": "8e0abf42",
   "metadata": {},
   "source": [
    "# PYTHON - WORKSHEET NO-1"
   ]
  },
  {
   "cell_type": "markdown",
   "id": "2addc63c",
   "metadata": {},
   "source": [
    "# Q.NO.11-"
   ]
  },
  {
   "cell_type": "code",
   "execution_count": 1,
   "id": "148cbfa8",
   "metadata": {},
   "outputs": [
    {
     "name": "stdout",
     "output_type": "stream",
     "text": [
      "Factorial of 5 is 120\n"
     ]
    }
   ],
   "source": [
    "# Python 3 program to find\n",
    "# factorial of given number\n",
    "def factorial(n):\n",
    "\n",
    " # single line to find factorial\n",
    " return 1 if (n==1 or n==0) else n * factorial(n - 1);\n",
    "\n",
    "# Driver Code\n",
    "num = 5;\n",
    "print(\"Factorial of\",num,\"is\",\n",
    "factorial(num))\n"
   ]
  },
  {
   "cell_type": "code",
   "execution_count": 2,
   "id": "91a4f5fe",
   "metadata": {},
   "outputs": [
    {
     "name": "stdout",
     "output_type": "stream",
     "text": [
      "Factorial of 25 is 15511210043330985984000000\n"
     ]
    }
   ],
   "source": [
    "# Python 3 program to find\n",
    "# factorial of given number\n",
    "def factorial(n):\n",
    "\n",
    " # single line to find factorial\n",
    " return 1 if (n==1 or n==0) else n * factorial(n - 1);\n",
    "\n",
    "# Driver Code\n",
    "num = 25;\n",
    "print(\"Factorial of\",num,\"is\",\n",
    "factorial(num))\n"
   ]
  },
  {
   "cell_type": "code",
   "execution_count": 3,
   "id": "ea3c6fe0",
   "metadata": {},
   "outputs": [
    {
     "name": "stdout",
     "output_type": "stream",
     "text": [
      "-2102132736\n"
     ]
    }
   ],
   "source": [
    "import numpy\n",
    "n=20\n",
    "x=numpy.prod([i for i in range(1,n+1)])\n",
    "print(x)\n"
   ]
  },
  {
   "cell_type": "code",
   "execution_count": 4,
   "id": "3832cf1c",
   "metadata": {},
   "outputs": [
    {
     "name": "stdout",
     "output_type": "stream",
     "text": [
      "362880\n"
     ]
    }
   ],
   "source": [
    "import numpy\n",
    "n=9\n",
    "x=numpy.prod([i for i in range(1,n+1)])\n",
    "print(x)\n"
   ]
  },
  {
   "cell_type": "markdown",
   "id": "b3c54771",
   "metadata": {},
   "source": [
    "# Q.NO.12"
   ]
  },
  {
   "cell_type": "code",
   "execution_count": 5,
   "id": "82593a4c",
   "metadata": {},
   "outputs": [
    {
     "name": "stdout",
     "output_type": "stream",
     "text": [
      "13 is not a prime number\n",
      "13 is not a prime number\n",
      "13 is not a prime number\n",
      "13 is not a prime number\n",
      "13 is not a prime number\n"
     ]
    }
   ],
   "source": [
    "num = 13\n",
    "# If given number is greater than 1\n",
    "if num > 1:\n",
    "    # Iterate from 2 to n / 2\n",
    "    for i in range(2, int(num/2)+1):\n",
    "        # If num is divisible by any number between\n",
    "        # 2 and n / 2, it is not prime\n",
    "        if (num % i) == 0:\n",
    "            print(num, \"is not a prime number\")\n",
    "            break\n",
    "        else:\n",
    "                print(num, \"is not a prime number\")\n",
    "else:\n",
    "    print(num, \"is not a prime number\")\n",
    "    "
   ]
  },
  {
   "cell_type": "code",
   "execution_count": 6,
   "id": "a62ee03e",
   "metadata": {},
   "outputs": [
    {
     "name": "stdout",
     "output_type": "stream",
     "text": [
      "17 is not a prime number\n",
      "17 is not a prime number\n",
      "17 is not a prime number\n",
      "17 is not a prime number\n",
      "17 is not a prime number\n",
      "17 is not a prime number\n",
      "17 is not a prime number\n"
     ]
    }
   ],
   "source": [
    "num = 17\n",
    "# If given number is greater than 1\n",
    "if num > 1:\n",
    "    # Iterate from 2 to n / 2\n",
    "    for i in range(2, int(num/2)+1):\n",
    "        # If num is divisible by any number between\n",
    "        # 2 and n / 2, it is not prime\n",
    "        if (num % i) == 0:\n",
    "            print(num, \"is not a prime number\")\n",
    "            break\n",
    "        else:\n",
    "                print(num, \"is not a prime number\")\n",
    "else:\n",
    "    print(num, \"is not a prime number\")\n",
    "    "
   ]
  },
  {
   "cell_type": "code",
   "execution_count": 7,
   "id": "099a1a2f",
   "metadata": {},
   "outputs": [
    {
     "name": "stdout",
     "output_type": "stream",
     "text": [
      "11 is not a prime number\n",
      "11 is not a prime number\n",
      "11 is not a prime number\n",
      "11 is not a prime number\n"
     ]
    }
   ],
   "source": [
    "num = 11\n",
    "# If given number is greater than 1\n",
    "if num > 1:\n",
    "    # Iterate from 2 to n / 2\n",
    "    for i in range(2, int(num/2)+1):\n",
    "        # If num is divisible by any number between\n",
    "        # 2 and n / 2, it is not prime\n",
    "        if (num % i) == 0:\n",
    "            print(num, \"is not a prime number\")\n",
    "            break\n",
    "        else:\n",
    "                print(num, \"is not a prime number\")\n",
    "else:\n",
    "    print(num, \"is not a prime number\")\n",
    "    "
   ]
  },
  {
   "cell_type": "markdown",
   "id": "1fdbdfc9",
   "metadata": {},
   "source": [
    "# Q.NO.13."
   ]
  },
  {
   "cell_type": "code",
   "execution_count": 8,
   "id": "85233809",
   "metadata": {},
   "outputs": [
    {
     "name": "stdout",
     "output_type": "stream",
     "text": [
      "Yes\n"
     ]
    }
   ],
   "source": [
    "# Python program to check\n",
    "# if a string is palindrome\n",
    "# or not\n",
    "\n",
    "x = \"radar\"\n",
    "\n",
    "w = \"\"\n",
    "for i in x:\n",
    "     w = i + w\n",
    "        \n",
    "if (x == w):\n",
    "    print(\"Yes\")\n",
    "else:\n",
    "    print(\"No\")\n",
    "\n"
   ]
  },
  {
   "cell_type": "code",
   "execution_count": 9,
   "id": "c9b15039",
   "metadata": {},
   "outputs": [
    {
     "name": "stdout",
     "output_type": "stream",
     "text": [
      "No\n"
     ]
    }
   ],
   "source": [
    "# Python program to check\n",
    "# if a string is palindrome\n",
    "# or not\n",
    "\n",
    "x = \"sonar\"\n",
    "\n",
    "w = \"\"\n",
    "for i in x:\n",
    "     w = i + w\n",
    "        \n",
    "if (x == w):\n",
    "    print(\"Yes\")\n",
    "else:\n",
    "    print(\"No\")\n",
    "\n"
   ]
  },
  {
   "cell_type": "markdown",
   "id": "7b28bc70",
   "metadata": {},
   "source": [
    "# Q.NO.14"
   ]
  },
  {
   "cell_type": "code",
   "execution_count": 10,
   "id": "d6845d5e",
   "metadata": {},
   "outputs": [
    {
     "name": "stdout",
     "output_type": "stream",
     "text": [
      "Hypotenuse = 5.0\n",
      "Adjacent = 4.0\n",
      "Opposite = 3.0\n",
      "You know the answer!\n"
     ]
    }
   ],
   "source": [
    "def pythagoras(opposite_side,adjacent_side,hypotenuse):\n",
    "        if opposite_side == str(\"x\"):\n",
    "            return (\"Opposite = \" + str(((hypotenuse**2) - (adjacent_side**2))**0.5))\n",
    "        elif adjacent_side == str(\"x\"):\n",
    "            return (\"Adjacent = \" + str(((hypotenuse**2) - (opposite_side**2))**0.5))\n",
    "        elif hypotenuse == str(\"x\"):\n",
    "            return (\"Hypotenuse = \" + str(((opposite_side**2) + (adjacent_side**2))**0.5))\n",
    "        else:\n",
    "            return \"You know the answer!\"\n",
    "    \n",
    "print(pythagoras(3,4,'x'))\n",
    "print(pythagoras(3,'x',5))\n",
    "print(pythagoras('x',4,5))\n",
    "print(pythagoras(3,4,5))"
   ]
  },
  {
   "cell_type": "code",
   "execution_count": 11,
   "id": "0c63026a",
   "metadata": {},
   "outputs": [
    {
     "name": "stdout",
     "output_type": "stream",
     "text": [
      "Hypotenuse = 9.219544457292887\n",
      "Adjacent = 5.291502622129181\n",
      "Opposite = 3.872983346207417\n",
      "Triangle is a right angled triangle!\n"
     ]
    }
   ],
   "source": [
    "def pythagoras(opposite_side,adjacent_side,hypotenuse):\n",
    "        if opposite_side == str(\"x\"):\n",
    "            return (\"Opposite = \" + str(((hypotenuse**2) - (adjacent_side**2))**0.5))\n",
    "        elif adjacent_side == str(\"x\"):\n",
    "            return (\"Adjacent = \" + str(((hypotenuse**2) - (opposite_side**2))**0.5))\n",
    "        elif hypotenuse == str(\"x\"):\n",
    "            return (\"Hypotenuse = \" + str(((opposite_side**2) + (adjacent_side**2))**0.5))\n",
    "        else:\n",
    "            return \"Triangle is a right angled triangle!\"\n",
    "    \n",
    "print(pythagoras(6,7,'x'))\n",
    "print(pythagoras(6,'x',8))\n",
    "print(pythagoras('x',7,8))\n",
    "print(pythagoras(6,7,8))"
   ]
  },
  {
   "cell_type": "markdown",
   "id": "fbbbd31c",
   "metadata": {},
   "source": [
    "# Q.NO.15"
   ]
  },
  {
   "cell_type": "code",
   "execution_count": 12,
   "id": "22090697",
   "metadata": {},
   "outputs": [
    {
     "name": "stdout",
     "output_type": "stream",
     "text": [
      "Given String:  timeofeffort\n",
      "Frequency of each character :\n",
      "  {'t': 2, 'i': 1, 'm': 1, 'e': 2, 'o': 2, 'f': 3, 'r': 1}\n"
     ]
    }
   ],
   "source": [
    "# Given string\n",
    "strA = \"timeofeffort\"\n",
    "print(\"Given String: \",strA)\n",
    "# Using counter\n",
    "res = {}\n",
    "\n",
    "for keys in strA:\n",
    "    res[keys] = res.get(keys, 0) + 1\n",
    "\n",
    "\n",
    "# Result\n",
    "print(\"Frequency of each character :\\n \",res)"
   ]
  },
  {
   "cell_type": "code",
   "execution_count": 13,
   "id": "8771f34a",
   "metadata": {},
   "outputs": [
    {
     "name": "stdout",
     "output_type": "stream",
     "text": [
      "Given String:  timesofIndia\n",
      "Frequency of each character :\n",
      "  {'t': 1, 'i': 2, 'm': 1, 'e': 1, 's': 1, 'o': 1, 'f': 1, 'I': 1, 'n': 1, 'd': 1, 'a': 1}\n"
     ]
    }
   ],
   "source": [
    "# Given string\n",
    "strB = \"timesofIndia\"\n",
    "print(\"Given String: \",strB)\n",
    "# Using counter\n",
    "res = {}\n",
    "\n",
    "for keys in strB:\n",
    "    res[keys] = res.get(keys, 0) + 1\n",
    "\n",
    "\n",
    "# Result\n",
    "print(\"Frequency of each character :\\n \",res)"
   ]
  },
  {
   "cell_type": "code",
   "execution_count": 14,
   "id": "6d242a58",
   "metadata": {},
   "outputs": [
    {
     "name": "stdout",
     "output_type": "stream",
     "text": [
      "Given String:  MYNAMEISMONIKALATHAR\n",
      "Frequency of each character :\n",
      "  {'M': 3, 'Y': 1, 'N': 2, 'A': 4, 'E': 1, 'I': 2, 'S': 1, 'O': 1, 'K': 1, 'L': 1, 'T': 1, 'H': 1, 'R': 1}\n"
     ]
    }
   ],
   "source": [
    "# Given string\n",
    "strC = \"MYNAMEISMONIKALATHAR\"\n",
    "print(\"Given String: \",strC)\n",
    "# Using counter\n",
    "res = {}\n",
    "\n",
    "for keys in strC:\n",
    "    res[keys] = res.get(keys, 0) + 1\n",
    "\n",
    "\n",
    "# Result\n",
    "print(\"Frequency of each character :\\n \",res)"
   ]
  },
  {
   "cell_type": "markdown",
   "id": "56815ed2",
   "metadata": {},
   "source": [
    "# ****************DONE*********************"
   ]
  },
  {
   "cell_type": "code",
   "execution_count": null,
   "id": "07675020",
   "metadata": {},
   "outputs": [],
   "source": []
  }
 ],
 "metadata": {
  "kernelspec": {
   "display_name": "Python 3 (ipykernel)",
   "language": "python",
   "name": "python3"
  },
  "language_info": {
   "codemirror_mode": {
    "name": "ipython",
    "version": 3
   },
   "file_extension": ".py",
   "mimetype": "text/x-python",
   "name": "python",
   "nbconvert_exporter": "python",
   "pygments_lexer": "ipython3",
   "version": "3.9.12"
  }
 },
 "nbformat": 4,
 "nbformat_minor": 5
}
