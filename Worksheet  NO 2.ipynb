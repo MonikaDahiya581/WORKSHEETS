{
 "cells": [
  {
   "cell_type": "markdown",
   "id": "692d98ff",
   "metadata": {},
   "source": [
    "# PYTHON WORKSHEET NO.2"
   ]
  },
  {
   "cell_type": "markdown",
   "id": "ef69ff11",
   "metadata": {},
   "source": [
    "# Q.14 Write a python program to solve a quadratic equation of the form ax^2+bx+c=0."
   ]
  },
  {
   "cell_type": "code",
   "execution_count": 1,
   "id": "1862eefc",
   "metadata": {},
   "outputs": [],
   "source": [
    "import math #firstly we are importing some useable libarary"
   ]
  },
  {
   "cell_type": "raw",
   "id": "7c5e574a",
   "metadata": {},
   "source": [
    "a,b,c are constant & x is a variablewe have to calcuilate the value of x from finding the value of Discriminant\n",
    "From discriminant ( disc= b^2 - 4ac) we will got 2 root values, in 3 conditions\n",
    "disc = 0 = Roots are real and equal\n",
    "disc > 0 = Roots are real & unequal\n",
    "disc < 0 = Roots are imaginary\n",
    "Roots calculation r1 = ((-b) + (math.sqrt(disc))) / 2a First root\n",
    "r2 = ((-b) + (math.sqrt(disc))) / 2a Second root"
   ]
  },
  {
   "cell_type": "code",
   "execution_count": 2,
   "id": "c721bff8",
   "metadata": {},
   "outputs": [
    {
     "name": "stdout",
     "output_type": "stream",
     "text": [
      "Complex Roots\n",
      "-1.25  + i 7.416198487095663\n",
      "-1.25  - i 7.416198487095663\n"
     ]
    }
   ],
   "source": [
    "# Python program to find roots of quadratic equation\n",
    "import math\n",
    "\n",
    "\n",
    "# function for finding roots\n",
    "def equationroots( a, b, c):\n",
    "    # calculating discriminant using formula\n",
    "    dis = b * b - 4 * a * c\n",
    "    sqrt_val = math.sqrt(abs(dis))\n",
    "    if dis > 0:  # checking condition for discriminant\n",
    "        print(\" real and different roots \")\n",
    "        print((-b + sqrt_val)/(2 * a))\n",
    "        print((-b - sqrt_val)/(2 * a))\n",
    "    elif dis == 0:\n",
    "        print(\" real and same roots\")\n",
    "        print(-b / (2 * a))\n",
    "    # when discriminant is less than 0\n",
    "    else:\n",
    "        print(\"Complex Roots\")\n",
    "        print(- b / (2 * a), \" + i\", sqrt_val)\n",
    "        print(- b / (2 * a), \" - i\", sqrt_val)\n",
    "\n",
    "# Driver Program\n",
    "a = 2\n",
    "b = 5\n",
    "c = 10\n",
    "\n",
    "# If a is 0, then incorrect equation\n",
    "if a == 0:\n",
    "    print(\"Input correct quadratic equation\")\n",
    "else:\n",
    "    equationroots(a, b, c)\n",
    "\n"
   ]
  },
  {
   "cell_type": "code",
   "execution_count": 3,
   "id": "03c010a6",
   "metadata": {
    "scrolled": true
   },
   "outputs": [
    {
     "name": "stdout",
     "output_type": "stream",
     "text": [
      "Enter the coefficient of x square : 1\n",
      "Enter the coefficient of x : -3\n",
      "Enter constant : 6\n",
      "Discriminant =  -15\n",
      "Roots are Imaginary\n",
      "Type yes to return or Press any key to exit:2\n"
     ]
    }
   ],
   "source": [
    "run = \"yes\"\n",
    "while run==\"yes\":\n",
    "    a = int(input(\"Enter the coefficient of x square : \"))\n",
    "    b = int(input(\"Enter the coefficient of x : \"))\n",
    "    c = int(input(\"Enter constant : \"))\n",
    "\n",
    "    disc = b*b - 4*a*c\n",
    "\n",
    "    print(\"Discriminant = \",disc)\n",
    " \n",
    "    if disc == 0:\n",
    "        print(\"Roots are Real & Equal\")\n",
    "        r1 = (-b)/(2*a)    # in this disc is 0, so math.sqrt(disc) will be zero\n",
    "        r2 = (-b)/(2/a)\n",
    "        print(\"First Root :\",r1)\n",
    "        print(\"Second Root :\",r2)\n",
    "    elif disc > 0:\n",
    "        print(\"Roots are Real & Unequal\")\n",
    "        r1 = ((-b)+(math.sqrt(disc)))/(2*a)\n",
    "        r2 = ((-b)-(math.sqrt(disc)))/(2*a)\n",
    "        print(\"First Root :\",r1)\n",
    "        print(\"Second Root :\",r2)\n",
    "    else:\n",
    "        print(\"Roots are Imaginary\")\n",
    "        run = str(input(\"Type yes to return or Press any key to exit:\").casefold())\n",
    "exit()"
   ]
  },
  {
   "cell_type": "code",
   "execution_count": 2,
   "id": "745b66c5",
   "metadata": {},
   "outputs": [],
   "source": [
    "import math"
   ]
  },
  {
   "cell_type": "code",
   "execution_count": 3,
   "id": "b989d969",
   "metadata": {},
   "outputs": [
    {
     "name": "stdout",
     "output_type": "stream",
     "text": [
      "Enter the coefficient of x square : 1\n",
      "Enter the coefficient of x : -5\n",
      "Enter constant : 6\n",
      "Discriminant =  1\n",
      "Roots are Real & Unequal\n",
      "First Root : 3.0\n",
      "Second Root : 2.0\n",
      "Enter the coefficient of x square : 2\n",
      "Enter the coefficient of x : 1\n",
      "Enter constant : 4\n",
      "Discriminant =  -31\n",
      "Roots are Imaginary\n",
      "Type yes to return or Press any key to exit:p\n"
     ]
    }
   ],
   "source": [
    "run = \"yes\"\n",
    "while run==\"yes\":\n",
    "    a = int(input(\"Enter the coefficient of x square : \"))\n",
    "    b = int(input(\"Enter the coefficient of x : \"))\n",
    "    c = int(input(\"Enter constant : \"))\n",
    "\n",
    "    disc = b*b - 4*a*c\n",
    "\n",
    "    print(\"Discriminant = \",disc)\n",
    " \n",
    "    if disc == 0:\n",
    "        print(\"Roots are Real & Equal\")\n",
    "        r1 = (-b)/(2*a)    # in this disc is 0, so math.sqrt(disc) will be zero\n",
    "        r2 = (-b)/(2/a)\n",
    "        print(\"First Root :\",r1)\n",
    "        print(\"Second Root :\",r2)\n",
    "    elif disc > 0:\n",
    "        print(\"Roots are Real & Unequal\")\n",
    "        r1 = ((-b)+(math.sqrt(disc)))/(2*a)\n",
    "        r2 = ((-b)-(math.sqrt(disc)))/(2*a)\n",
    "        print(\"First Root :\",r1)\n",
    "        print(\"Second Root :\",r2)\n",
    "    else:\n",
    "        print(\"Roots are Imaginary\")\n",
    "        run = str(input(\"Type yes to return or Press any key to exit:\").casefold())\n",
    "exit()"
   ]
  },
  {
   "cell_type": "code",
   "execution_count": 1,
   "id": "4bc765b5",
   "metadata": {},
   "outputs": [
    {
     "name": "stdout",
     "output_type": "stream",
     "text": [
      "The roots are\n",
      "(-3.414213562373095+0j)\n",
      "(-0.5857864376269049+0j)\n"
     ]
    }
   ],
   "source": [
    "# import complex math module\n",
    "import cmath\n",
    "\n",
    "a = 1\n",
    "b = 4\n",
    "c = 2\n",
    "\n",
    "# calculating the discriminant\n",
    "dis = (b**2) - (4 * a*c)\n",
    "\n",
    "# find two results\n",
    "ans1 = (-b-cmath.sqrt(dis))/(2 * a)\n",
    "ans2 = (-b + cmath.sqrt(dis))/(2 * a)\n",
    "\n",
    "# printing the results\n",
    "print('The roots are')\n",
    "print(ans1)\n",
    "print(ans2)\n"
   ]
  },
  {
   "cell_type": "code",
   "execution_count": 2,
   "id": "15ebb5cf",
   "metadata": {},
   "outputs": [
    {
     "name": "stdout",
     "output_type": "stream",
     "text": [
      " real and different roots \n",
      "2.0\n",
      "-12.0\n"
     ]
    }
   ],
   "source": [
    "# Python program to find roots of quadratic equation\n",
    "import math\n",
    "\n",
    "\n",
    "# function for finding roots\n",
    "def equationroots( a, b, c):\n",
    "    # calculating discriminant using formula\n",
    "    dis = b * b - 4 * a * c\n",
    "    sqrt_val = math.sqrt(abs(dis))\n",
    "    if dis > 0:  # checking condition for discriminant\n",
    "        print(\" real and different roots \")\n",
    "        print((-b + sqrt_val)/(2 * a))\n",
    "        print((-b - sqrt_val)/(2 * a))\n",
    "    elif dis == 0:\n",
    "        print(\" real and same roots\")\n",
    "        print(-b / (2 * a))\n",
    "    # when discriminant is less than 0\n",
    "    else:\n",
    "        print(\"Complex Roots\")\n",
    "        print(- b / (2 * a), \" + i\", sqrt_val)\n",
    "        print(- b / (2 * a), \" - i\", sqrt_val)\n",
    "\n",
    "# Driver Program\n",
    "a = 1\n",
    "b = 10\n",
    "c = -24\n",
    "\n",
    "# If a is 0, then incorrect equation\n",
    "if a == 0:\n",
    "    print(\"Input correct quadratic equation\")\n",
    "else:\n",
    "    equationroots(a, b, c)\n",
    "\n"
   ]
  },
  {
   "cell_type": "code",
   "execution_count": 3,
   "id": "b477cf12",
   "metadata": {},
   "outputs": [
    {
     "name": "stdout",
     "output_type": "stream",
     "text": [
      " real and different roots \n",
      "1.5\n",
      "-4.0\n"
     ]
    }
   ],
   "source": [
    "# Python program to find roots of quadratic equation\n",
    "import math\n",
    "\n",
    "\n",
    "# function for finding roots\n",
    "def equationroots( a, b, c):\n",
    "    # calculating discriminant using formula\n",
    "    dis = b * b - 4 * a * c\n",
    "    sqrt_val = math.sqrt(abs(dis))\n",
    "    if dis > 0:  # checking condition for discriminant\n",
    "        print(\" real and different roots \")\n",
    "        print((-b + sqrt_val)/(2 * a))\n",
    "        print((-b - sqrt_val)/(2 * a))\n",
    "    elif dis == 0:\n",
    "        print(\" real and same roots\")\n",
    "        print(-b / (2 * a))\n",
    "    # when discriminant is less than 0\n",
    "    else:\n",
    "        print(\"Complex Roots\")\n",
    "        print(- b / (2 * a), \" + i\", sqrt_val)\n",
    "        print(- b / (2 * a), \" - i\", sqrt_val)\n",
    "\n",
    "# Driver Program\n",
    "a = 2\n",
    "b = 5\n",
    "c = -12\n",
    "\n",
    "# If a is 0, then incorrect equation\n",
    "if a == 0:\n",
    "    print(\"Input correct quadratic equation\")\n",
    "else:\n",
    "    equationroots(a, b, c)\n",
    "\n"
   ]
  },
  {
   "cell_type": "code",
   "execution_count": 4,
   "id": "05463264",
   "metadata": {},
   "outputs": [
    {
     "name": "stdout",
     "output_type": "stream",
     "text": [
      "The roots are\n",
      "(-2+0j)\n",
      "(-1+0j)\n"
     ]
    }
   ],
   "source": [
    "# import complex math module\n",
    "import cmath\n",
    "\n",
    "a = 2\n",
    "b = 6\n",
    "c = 4\n",
    "\n",
    "# calculating the discriminant\n",
    "dis = (b**2) - (4 * a*c)\n",
    "\n",
    "# find two results\n",
    "ans1 = (-b-cmath.sqrt(dis))/(2 * a)\n",
    "ans2 = (-b + cmath.sqrt(dis))/(2 * a)\n",
    "\n",
    "# printing the results\n",
    "print('The roots are')\n",
    "print(ans1)\n",
    "print(ans2)\n"
   ]
  },
  {
   "cell_type": "markdown",
   "id": "d932ada1",
   "metadata": {},
   "source": [
    "# Q.15.Program to find sum of first n natural numbers"
   ]
  },
  {
   "cell_type": "code",
   "execution_count": 6,
   "id": "322c2c12",
   "metadata": {},
   "outputs": [
    {
     "name": "stdout",
     "output_type": "stream",
     "text": [
      "The sum is 136\n"
     ]
    }
   ],
   "source": [
    "#Sum of natural numbers up to num\n",
    "\n",
    "num = 16\n",
    "\n",
    "if num < 0:\n",
    "    print(\"Enter a positive number\")\n",
    "else:\n",
    "    sum = 0\n",
    "    \n",
    "   # use while loop to iterate until zero\n",
    "    while(num > 0):\n",
    "        sum += num\n",
    "        num -= 1\n",
    "    print(\"The sum is\", sum)\n",
    "           "
   ]
  },
  {
   "cell_type": "code",
   "execution_count": 7,
   "id": "81022388",
   "metadata": {},
   "outputs": [
    {
     "name": "stdout",
     "output_type": "stream",
     "text": [
      "15\n"
     ]
    }
   ],
   "source": [
    "num = 5\n",
    "sum = 0\n",
    "for i in range(num+1):\n",
    "  sum+=i\n",
    "print(sum)"
   ]
  },
  {
   "cell_type": "code",
   "execution_count": 8,
   "id": "a43c1896",
   "metadata": {},
   "outputs": [
    {
     "name": "stdout",
     "output_type": "stream",
     "text": [
      "12753775\n"
     ]
    }
   ],
   "source": [
    "num = 5050\n",
    "sum = 0\n",
    "for i in range(num+1):\n",
    "  sum+=i\n",
    "print(sum)"
   ]
  },
  {
   "cell_type": "code",
   "execution_count": 9,
   "id": "d713a4cc",
   "metadata": {},
   "outputs": [
    {
     "name": "stdout",
     "output_type": "stream",
     "text": [
      "325\n"
     ]
    }
   ],
   "source": [
    "num = 25\n",
    "print(int(num*(num+1)/2))"
   ]
  },
  {
   "cell_type": "code",
   "execution_count": 10,
   "id": "4ebe5ffb",
   "metadata": {},
   "outputs": [
    {
     "name": "stdout",
     "output_type": "stream",
     "text": [
      "15\n"
     ]
    }
   ],
   "source": [
    "def getSum(num):\n",
    "    if num == 1:\n",
    "        return 1\n",
    "    return num + getSum(num-1)\n",
    "num = 5\n",
    "print(getSum(num))\n",
    "  "
   ]
  },
  {
   "cell_type": "code",
   "execution_count": 11,
   "id": "659cab26",
   "metadata": {},
   "outputs": [
    {
     "name": "stdout",
     "output_type": "stream",
     "text": [
      "3240\n"
     ]
    }
   ],
   "source": [
    "def getSum(num):\n",
    "    if num == 1:\n",
    "        return 1\n",
    "    return num + getSum(num-1)\n",
    "num =80\n",
    "print(getSum(num))\n",
    "  "
   ]
  },
  {
   "cell_type": "markdown",
   "id": "146b423e",
   "metadata": {},
   "source": [
    "# ******************DONE*************"
   ]
  },
  {
   "cell_type": "code",
   "execution_count": null,
   "id": "1afbd0aa",
   "metadata": {},
   "outputs": [],
   "source": []
  }
 ],
 "metadata": {
  "kernelspec": {
   "display_name": "Python 3 (ipykernel)",
   "language": "python",
   "name": "python3"
  },
  "language_info": {
   "codemirror_mode": {
    "name": "ipython",
    "version": 3
   },
   "file_extension": ".py",
   "mimetype": "text/x-python",
   "name": "python",
   "nbconvert_exporter": "python",
   "pygments_lexer": "ipython3",
   "version": "3.9.12"
  }
 },
 "nbformat": 4,
 "nbformat_minor": 5
}
