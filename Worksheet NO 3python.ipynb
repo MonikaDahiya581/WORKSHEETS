{
 "cells": [
  {
   "cell_type": "markdown",
   "id": "b5bf4d28",
   "metadata": {},
   "source": [
    "# WORKSHEET NO.3[PYTHON]"
   ]
  },
  {
   "cell_type": "markdown",
   "id": "f38084f3",
   "metadata": {},
   "source": [
    "Q11. Write a python function print pyramid of stars. Level of pyramid should be taken as an input from the user. E.g. Input = 5"
   ]
  },
  {
   "cell_type": "code",
   "execution_count": 1,
   "id": "14c7a630",
   "metadata": {},
   "outputs": [
    {
     "name": "stdout",
     "output_type": "stream",
     "text": [
      "Enter the Number :- 10\n",
      "         * \n",
      "        * * \n",
      "       * * * \n",
      "      * * * * \n",
      "     * * * * * \n",
      "    * * * * * * \n",
      "   * * * * * * * \n",
      "  * * * * * * * * \n",
      " * * * * * * * * * \n",
      "* * * * * * * * * * \n"
     ]
    }
   ],
   "source": [
    "num = int(input(\"Enter the Number :- \"))\n",
    "for i in range(0,num):\n",
    "    for j in range(0,num-i-1):\n",
    "        print(end=\" \") # if we remove space from bracket then all stars will start from left side following margin line\n",
    "    for j in range(0,i+1):\n",
    "        print(\"*\",end=\" \")\n",
    "    print()"
   ]
  },
  {
   "cell_type": "code",
   "execution_count": 2,
   "id": "9279c967",
   "metadata": {},
   "outputs": [
    {
     "name": "stdout",
     "output_type": "stream",
     "text": [
      "Enter the Number :- 25\n",
      "                        * \n",
      "                       * * \n",
      "                      * * * \n",
      "                     * * * * \n",
      "                    * * * * * \n",
      "                   * * * * * * \n",
      "                  * * * * * * * \n",
      "                 * * * * * * * * \n",
      "                * * * * * * * * * \n",
      "               * * * * * * * * * * \n",
      "              * * * * * * * * * * * \n",
      "             * * * * * * * * * * * * \n",
      "            * * * * * * * * * * * * * \n",
      "           * * * * * * * * * * * * * * \n",
      "          * * * * * * * * * * * * * * * \n",
      "         * * * * * * * * * * * * * * * * \n",
      "        * * * * * * * * * * * * * * * * * \n",
      "       * * * * * * * * * * * * * * * * * * \n",
      "      * * * * * * * * * * * * * * * * * * * \n",
      "     * * * * * * * * * * * * * * * * * * * * \n",
      "    * * * * * * * * * * * * * * * * * * * * * \n",
      "   * * * * * * * * * * * * * * * * * * * * * * \n",
      "  * * * * * * * * * * * * * * * * * * * * * * * \n",
      " * * * * * * * * * * * * * * * * * * * * * * * * \n",
      "* * * * * * * * * * * * * * * * * * * * * * * * * \n"
     ]
    }
   ],
   "source": [
    "num = int(input(\"Enter the Number :- \"))\n",
    "for i in range(0,num):\n",
    "    for j in range(0,num-i-1):\n",
    "        print(end=\" \") # if we remove space from bracket then all stars will start from left side following margin line\n",
    "    for j in range(0,i+1):\n",
    "        print(\"*\",end=\" \")\n",
    "    print()"
   ]
  },
  {
   "cell_type": "markdown",
   "id": "e256c67a",
   "metadata": {},
   "source": [
    "Q12. Write a python function print Hourglass pattern. E.g. Input = 5"
   ]
  },
  {
   "cell_type": "code",
   "execution_count": 3,
   "id": "8cd6036b",
   "metadata": {},
   "outputs": [
    {
     "name": "stdout",
     "output_type": "stream",
     "text": [
      "Enter the Number :- 7\n",
      "* * * * * * * \n",
      " * * * * * * \n",
      "  * * * * * \n",
      "   * * * * \n",
      "    * * * \n",
      "     * * \n",
      "      * \n",
      "     * * \n",
      "    * * * \n",
      "   * * * * \n",
      "  * * * * * \n",
      " * * * * * * \n",
      "* * * * * * * \n"
     ]
    }
   ],
   "source": [
    "num = int(input(\"Enter the Number :- \"))\n",
    "for i in range(num,0,-1):\n",
    "    for j in range(num,i,-1):\n",
    "        print(end=\" \")\n",
    "    for k in range(0,i):\n",
    "        print(\"*\",end=\" \")\n",
    "    print()\n",
    "for i in range (1,num):\n",
    "    for j in range(0,num-i-1):\n",
    "        print(end=\" \")\n",
    "    for k in range(0,i+1):\n",
    "        print(\"*\",end=\" \")\n",
    "    print()\n"
   ]
  },
  {
   "cell_type": "code",
   "execution_count": 4,
   "id": "68e1cb30",
   "metadata": {},
   "outputs": [
    {
     "name": "stdout",
     "output_type": "stream",
     "text": [
      "Enter the Number :- 14\n",
      "* * * * * * * * * * * * * * \n",
      " * * * * * * * * * * * * * \n",
      "  * * * * * * * * * * * * \n",
      "   * * * * * * * * * * * \n",
      "    * * * * * * * * * * \n",
      "     * * * * * * * * * \n",
      "      * * * * * * * * \n",
      "       * * * * * * * \n",
      "        * * * * * * \n",
      "         * * * * * \n",
      "          * * * * \n",
      "           * * * \n",
      "            * * \n",
      "             * \n",
      "            * * \n",
      "           * * * \n",
      "          * * * * \n",
      "         * * * * * \n",
      "        * * * * * * \n",
      "       * * * * * * * \n",
      "      * * * * * * * * \n",
      "     * * * * * * * * * \n",
      "    * * * * * * * * * * \n",
      "   * * * * * * * * * * * \n",
      "  * * * * * * * * * * * * \n",
      " * * * * * * * * * * * * * \n",
      "* * * * * * * * * * * * * * \n"
     ]
    }
   ],
   "source": [
    "num = int(input(\"Enter the Number :- \"))\n",
    "for i in range(num,0,-1):\n",
    "    for j in range(num,i,-1):\n",
    "        print(end=\" \")\n",
    "    for k in range(0,i):\n",
    "        print(\"*\",end=\" \")\n",
    "    print()\n",
    "for i in range (1,num):\n",
    "    for j in range(0,num-i-1):\n",
    "        print(end=\" \")\n",
    "    for k in range(0,i+1):\n",
    "        print(\"*\",end=\" \")\n",
    "    print()"
   ]
  },
  {
   "cell_type": "markdown",
   "id": "95e817b4",
   "metadata": {},
   "source": [
    "Q13. Write a python function to print Pascal’s Triangle. The number of levels in the triangle must be taken as input by user. E.g. Input = 5"
   ]
  },
  {
   "cell_type": "code",
   "execution_count": 5,
   "id": "4d311721",
   "metadata": {},
   "outputs": [
    {
     "name": "stdout",
     "output_type": "stream",
     "text": [
      "Enter the Number :-10\n",
      "1   \n",
      "1   1   \n",
      "1   2   1   \n",
      "1   3   3   1   \n",
      "1   4   6   4   1   \n",
      "1   5   10   10   5   1   \n",
      "1   6   15   20   15   6   1   \n",
      "1   7   21   35   35   21   7   1   \n",
      "1   8   28   56   70   56   28   8   1   \n",
      "1   9   36   84   126   126   84   36   9   1   \n"
     ]
    }
   ],
   "source": [
    "def fact(n):\n",
    "    f=1\n",
    "    if n==0:\n",
    "        return 1\n",
    "    for i in range(2,n+1):\n",
    "        f=f*i\n",
    "    return f\n",
    "def comb(m,n):\n",
    "    res=fact(m)//(fact(m-n)*fact(n))\n",
    "    return res\n",
    "num = int(input(\"Enter the Number :-\"))\n",
    "for i in range(0,num):\n",
    "    for j in range(0,i+1):\n",
    "        print(comb(i,j),\" \",end=\" \")\n",
    "    print()"
   ]
  },
  {
   "cell_type": "code",
   "execution_count": 6,
   "id": "087213e2",
   "metadata": {},
   "outputs": [
    {
     "name": "stdout",
     "output_type": "stream",
     "text": [
      "Enter the Number :-6\n",
      "1   \n",
      "1   1   \n",
      "1   2   1   \n",
      "1   3   3   1   \n",
      "1   4   6   4   1   \n",
      "1   5   10   10   5   1   \n"
     ]
    }
   ],
   "source": [
    "def fact(n):\n",
    "    f=1\n",
    "    if n==0:\n",
    "        return 1\n",
    "    for i in range(2,n+1):\n",
    "        f=f*i\n",
    "    return f\n",
    "def comb(m,n):\n",
    "    res=fact(m)//(fact(m-n)*fact(n))\n",
    "    return res\n",
    "num = int(input(\"Enter the Number :-\"))\n",
    "for i in range(0,num):\n",
    "    for j in range(0,i+1):\n",
    "        print(comb(i,j),\" \",end=\" \")\n",
    "    print()"
   ]
  },
  {
   "cell_type": "raw",
   "id": "7919658f",
   "metadata": {},
   "source": [
    "Q14. Write a python function to print Diamond Shaped Pattern shown below. Function must take integer input which represents the number of stars in the middle most line. E.g.: Input = 5"
   ]
  },
  {
   "cell_type": "code",
   "execution_count": 7,
   "id": "0b8f89cb",
   "metadata": {},
   "outputs": [
    {
     "name": "stdout",
     "output_type": "stream",
     "text": [
      "Enter the Number :- 7\n",
      "      * \n",
      "     * * \n",
      "    * * * \n",
      "   * * * * \n",
      "  * * * * * \n",
      " * * * * * * \n",
      "* * * * * * * \n",
      " * * * * * * \n",
      "  * * * * * \n",
      "   * * * * \n",
      "    * * * \n",
      "     * * \n",
      "      * \n"
     ]
    }
   ],
   "source": [
    "num = int(input(\"Enter the Number :- \"))\n",
    "for i in range (0,num):\n",
    "    for s in range(0,num-i-1):\n",
    "        print(end=\" \")\n",
    "    for j in range(0,i+1):\n",
    "        print(\"* \",end=\"\")\n",
    "    print()\n",
    "for  i in range(num-1,0,-1):\n",
    "    for s in range(num,i,-1):\n",
    "        print(end=\" \")\n",
    "    for j in range(0,i):\n",
    "        print(\"* \",end=\"\")\n",
    "    print()"
   ]
  },
  {
   "cell_type": "code",
   "execution_count": 8,
   "id": "9c2cf0ab",
   "metadata": {},
   "outputs": [
    {
     "name": "stdout",
     "output_type": "stream",
     "text": [
      "Enter the Number :- 3\n",
      "  * \n",
      " * * \n",
      "* * * \n",
      " * * \n",
      "  * \n"
     ]
    }
   ],
   "source": [
    "num = int(input(\"Enter the Number :- \"))\n",
    "for i in range (0,num):\n",
    "    for s in range(0,num-i-1):\n",
    "        print(end=\" \")\n",
    "    for j in range(0,i+1):\n",
    "        print(\"* \",end=\"\")\n",
    "    print()\n",
    "for  i in range(num-1,0,-1):\n",
    "    for s in range(num,i,-1):\n",
    "        print(end=\" \")\n",
    "    for j in range(0,i):\n",
    "        print(\"* \",end=\"\")\n",
    "    print()"
   ]
  },
  {
   "cell_type": "raw",
   "id": "af0f9e9d",
   "metadata": {},
   "source": [
    "Q15. Write a python function to print Diamond Shaped Character Pattern shown below. Function must take integer input within range 1 to 26, which represents the rank of alphabet. E.g.: Input = 5"
   ]
  },
  {
   "cell_type": "code",
   "execution_count": 9,
   "id": "5c600e56",
   "metadata": {},
   "outputs": [
    {
     "name": "stdout",
     "output_type": "stream",
     "text": [
      "Enter the Number :- 9\n",
      "         A \n",
      "        A B \n",
      "       A B C \n",
      "      A B C D \n",
      "     A B C D E \n",
      "    A B C D E F \n",
      "   A B C D E F G \n",
      "  A B C D E F G H \n",
      " A B C D E F G H I \n",
      "  A B C D E F G H \n",
      "   A B C D E F G \n",
      "    A B C D E F \n",
      "     A B C D E \n",
      "      A B C D \n",
      "       A B C \n",
      "        A B \n",
      "         A \n"
     ]
    }
   ],
   "source": [
    "n = int(input(\"Enter the Number :- \"))  \n",
    "\n",
    "for i in range(n):\n",
    "    print(' '*(n-i-1),end=\" \")\n",
    "    for j in range(i+1):\n",
    "        print(chr(65+j),end=\" \")\n",
    "    print()    \n",
    "for i in range(n-1):\n",
    "    print(' '*i,end=\"  \")\n",
    "    for j in range(n-i-1):\n",
    "        print(chr(65+j),end=\" \")\n",
    "    print()"
   ]
  },
  {
   "cell_type": "code",
   "execution_count": 10,
   "id": "38184aa6",
   "metadata": {},
   "outputs": [
    {
     "name": "stdout",
     "output_type": "stream",
     "text": [
      "Enter the Number :- 5\n",
      "     A \n",
      "    A B \n",
      "   A B C \n",
      "  A B C D \n",
      " A B C D E \n",
      "  A B C D \n",
      "   A B C \n",
      "    A B \n",
      "     A \n"
     ]
    }
   ],
   "source": [
    "n = int(input(\"Enter the Number :- \"))  \n",
    "\n",
    "for i in range(n):\n",
    "    print(' '*(n-i-1),end=\" \")\n",
    "    for j in range(i+1):\n",
    "        print(chr(65+j),end=\" \")\n",
    "    print()    \n",
    "for i in range(n-1):\n",
    "    print(' '*i,end=\"  \")\n",
    "    for j in range(n-i-1):\n",
    "        print(chr(65+j),end=\" \")\n",
    "    print()"
   ]
  },
  {
   "cell_type": "code",
   "execution_count": null,
   "id": "c39b6351",
   "metadata": {},
   "outputs": [],
   "source": []
  }
 ],
 "metadata": {
  "kernelspec": {
   "display_name": "Python 3 (ipykernel)",
   "language": "python",
   "name": "python3"
  },
  "language_info": {
   "codemirror_mode": {
    "name": "ipython",
    "version": 3
   },
   "file_extension": ".py",
   "mimetype": "text/x-python",
   "name": "python",
   "nbconvert_exporter": "python",
   "pygments_lexer": "ipython3",
   "version": "3.9.12"
  }
 },
 "nbformat": 4,
 "nbformat_minor": 5
}
